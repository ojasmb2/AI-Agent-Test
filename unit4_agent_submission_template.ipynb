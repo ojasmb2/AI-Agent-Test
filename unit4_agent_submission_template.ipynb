{
 "cells": [
  {
   "cell_type": "markdown",
   "id": "03b40068",
   "metadata": {},
   "source": [
    "# 🤖 Hugging Face Agents Course – Unit 4 Project\n",
    "\n",
    "This notebook uses a custom agent to interact with the GAIA API, answer questions, and submit them for scoring."
   ]
  },
  {
   "cell_type": "code",
   "execution_count": null,
   "id": "362c60f7",
   "metadata": {},
   "outputs": [],
   "source": [
    "# ✅ Install dependencies\n",
    "!pip install -q transformers huggingface_hub requests"
   ]
  },
  {
   "cell_type": "code",
   "execution_count": null,
   "id": "3b7dee14",
   "metadata": {},
   "outputs": [],
   "source": [
    "# ✅ Imports\n",
    "import requests\n",
    "from transformers import Agent, tool\n",
    "from typing import List, Dict\n",
    "import getpass\n",
    "import os"
   ]
  },
  {
   "cell_type": "code",
   "execution_count": null,
   "id": "20292dd0",
   "metadata": {},
   "outputs": [],
   "source": [
    "# ✅ Define custom tool\n",
    "@tool\n",
    "def lowercase_answer(text: str) -> str:\n",
    "    \"\"\"Returns a lowercase version of the text.\"\"\"\n",
    "    return text.lower()"
   ]
  },
  {
   "cell_type": "code",
   "execution_count": null,
   "id": "f9e7bfc3",
   "metadata": {},
   "outputs": [],
   "source": [
    "# ✅ Setup agent with tool(s)\n",
    "agent = Agent(tools=[lowercase_answer], verbose=False)"
   ]
  },
  {
   "cell_type": "code",
   "execution_count": null,
   "id": "f2b6ede8",
   "metadata": {},
   "outputs": [],
   "source": [
    "# ✅ Get all questions from the API\n",
    "QUESTIONS_URL = 'https://gaia-course-api.huggingface.co/questions'\n",
    "questions = requests.get(QUESTIONS_URL).json()\n",
    "questions[:2]  # Preview first two"
   ]
  },
  {
   "cell_type": "code",
   "execution_count": null,
   "id": "6d450668",
   "metadata": {},
   "outputs": [],
   "source": [
    "# ✅ Generate answers\n",
    "answers = []\n",
    "for q in questions:\n",
    "    task_id = q['task_id']\n",
    "    input_text = q['input']\n",
    "    print(f\"Answering: {input_text}\")\n",
    "    result = agent.run(input_text)\n",
    "    answers.append({\"task_id\": task_id, \"submitted_answer\": result})"
   ]
  },
  {
   "cell_type": "code",
   "execution_count": null,
   "id": "6b8aa2c6",
   "metadata": {},
   "outputs": [],
   "source": [
    "# ✅ Prepare submission\n",
    "username = input(\"Enter your HF username: \")\n",
    "space_url = input(\"Paste your Hugging Face Space code link (must end in /tree/main): \")\n",
    "\n",
    "submission_payload = {\n",
    "    \"username\": username,\n",
    "    \"agent_code\": space_url,\n",
    "    \"answers\": answers\n",
    "}\n",
    "\n",
    "SUBMIT_URL = 'https://gaia-course-api.huggingface.co/submit'\n",
    "submit_response = requests.post(SUBMIT_URL, json=submission_payload)\n",
    "print(\"✅ Submission complete! Response:\")\n",
    "print(submit_response.json())"
   ]
  },
  {
   "cell_type": "markdown",
   "id": "bc170218",
   "metadata": {},
   "source": [
    "Once the submission is successful, your score will be available on the [leaderboard](https://huggingface.co/learn/agents-course/unit4/hands-on#%F0%9F%8F%86-check-out-the-leaderboard-here)."
   ]
  }
 ],
 "metadata": {},
 "nbformat": 4,
 "nbformat_minor": 5
}
